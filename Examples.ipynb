{
 "cells": [
  {
   "cell_type": "code",
   "execution_count": null,
   "id": "a1b4b1be",
   "metadata": {},
   "outputs": [],
   "source": [
    "using Pkg\n",
    "Pkg.activate(\".\")\n",
    "\n",
    "include(\"PortfolioOptimization.jl\")"
   ]
  },
  {
   "cell_type": "markdown",
   "id": "429504d5",
   "metadata": {},
   "source": [
    "# Fixed return "
   ]
  },
  {
   "cell_type": "markdown",
   "id": "0a4e8d22",
   "metadata": {},
   "source": [
    "### Constrained (default)"
   ]
  },
  {
   "cell_type": "code",
   "execution_count": null,
   "id": "65eaa639",
   "metadata": {},
   "outputs": [],
   "source": [
    "μ = [11.5; 9.5; 6] / 100          \n",
    "Σ = [\n",
    "    166 34 58             \n",
    "    34 64 4\n",
    "    58 4 100\n",
    "] / 100^2\n",
    "\n",
    "portfolio = Portfolio(µ, Σ)\n",
    "\n",
    "target_return = 0.1\n",
    "\n",
    "w_opt = MPT_fixed_return(portfolio, target_return)"
   ]
  },
  {
   "cell_type": "code",
   "execution_count": null,
   "id": "ec82efe3",
   "metadata": {},
   "outputs": [],
   "source": [
    "#We can check that our return is the target\n",
    "sum(w_opt.*μ)"
   ]
  },
  {
   "cell_type": "markdown",
   "id": "626a50e3",
   "metadata": {},
   "source": [
    "### Unconstrained "
   ]
  },
  {
   "cell_type": "code",
   "execution_count": null,
   "id": "e50c30b7",
   "metadata": {},
   "outputs": [],
   "source": [
    "μ = [11.5; 9.5; 6] / 100          \n",
    "Σ = [\n",
    "    166 34 58              \n",
    "    34 64 4\n",
    "    58 4 100\n",
    "] / 100^2\n",
    "\n",
    "portfolio = Portfolio(µ, Σ)\n",
    "\n",
    "target_return = 0.1\n",
    "\n",
    "w_lower = 0.0\n",
    "w_upper = 0.5\n",
    "\n",
    "w_opt = MPT_fixed_return(portfolio, target_return, w_lower=w_lower, w_upper=w_upper)"
   ]
  },
  {
   "cell_type": "code",
   "execution_count": null,
   "id": "0574c712",
   "metadata": {},
   "outputs": [],
   "source": [
    "#We can check that our return is the target\n",
    "sum(w_opt.*μ)"
   ]
  },
  {
   "cell_type": "markdown",
   "id": "5e9245fc",
   "metadata": {},
   "source": [
    "# Fixed risk "
   ]
  },
  {
   "cell_type": "code",
   "execution_count": null,
   "id": "db26fa4d",
   "metadata": {},
   "outputs": [],
   "source": [
    "μ = [11.5; 9.5; 6] / 100\n",
    "Σ = [\n",
    "    166 34 58           \n",
    "    34 64 4\n",
    "    58 4 100\n",
    "] / 100^2\n",
    "\n",
    "portfolio = Portfolio(µ, Σ)\n",
    "\n",
    "target_risk = 0.08\n",
    "\n",
    "w_opt = MPT_fixed_risk(portfolio, target_risk)"
   ]
  },
  {
   "cell_type": "code",
   "execution_count": null,
   "id": "cc4cc74a",
   "metadata": {},
   "outputs": [],
   "source": [
    "#We can check that our return is the target\n",
    "sqrt(transpose(w_opt)*Σ*w_opt)"
   ]
  },
  {
   "cell_type": "markdown",
   "id": "19fe8bec",
   "metadata": {},
   "source": [
    "# Efficient frontier "
   ]
  },
  {
   "cell_type": "code",
   "execution_count": null,
   "id": "eb9fb943",
   "metadata": {},
   "outputs": [],
   "source": [
    "using PyPlot"
   ]
  },
  {
   "cell_type": "code",
   "execution_count": null,
   "id": "0de0400e",
   "metadata": {},
   "outputs": [],
   "source": [
    "μ = [11.5; 9.5; 6] / 100\n",
    "Σ = [\n",
    "    166 34 58           \n",
    "    34 64 4\n",
    "    58 4 100\n",
    "] / 100^2\n",
    "\n",
    "portfolio = Portfolio(µ, Σ)\n",
    "\n",
    "MeanVar, weights = Efficient_frontier(portfolio, 500);"
   ]
  },
  {
   "cell_type": "code",
   "execution_count": null,
   "id": "73cb7d45",
   "metadata": {},
   "outputs": [],
   "source": [
    "plt.plot(sqrt.(MeanVar[:, 2]), MeanVar[:, 1])\n",
    "\n",
    "plt.scatter(sqrt.(diag(portfolio.Σ)), portfolio.μ, color=\"r\", s=100)\n",
    "\n",
    "plt.xlabel(\"Expected return\", fontsize=20, labelpad=15)\n",
    "plt.ylabel(\"Risk\", fontsize=20, labelpad=15)"
   ]
  }
 ],
 "metadata": {
  "kernelspec": {
   "display_name": "Julia 1.7.2",
   "language": "julia",
   "name": "julia-1.7"
  },
  "language_info": {
   "file_extension": ".jl",
   "mimetype": "application/julia",
   "name": "julia",
   "version": "1.7.2"
  }
 },
 "nbformat": 4,
 "nbformat_minor": 5
}
