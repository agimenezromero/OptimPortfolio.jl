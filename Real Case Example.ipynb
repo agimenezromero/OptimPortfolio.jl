{
 "cells": [
  {
   "cell_type": "code",
   "execution_count": null,
   "id": "65638212",
   "metadata": {},
   "outputs": [],
   "source": [
    "using PyCall\n",
    "using PyPlot\n",
    "using Statistics\n",
    "\n",
    "yf = pyimport(\"yfinance\")\n",
    "\n",
    "include(\"PortfolioOptimization.jl\")"
   ]
  },
  {
   "cell_type": "markdown",
   "id": "1542ea39",
   "metadata": {},
   "source": [
    "# Data donwload and basic analysis "
   ]
  },
  {
   "cell_type": "code",
   "execution_count": null,
   "id": "6000e01a",
   "metadata": {},
   "outputs": [],
   "source": [
    "start = \"2013-01-01\"\n",
    "finish = \"2017-01-01\" \n",
    "\n",
    "start_test = \"2017-01-01\"\n",
    "finish_test  =\"2018-01-01\"\n",
    "\n",
    "assets = [\"MSFT\", \"AAPL\", \"TSLA\", \"GOOG\", \"META\", \"AMZN\"] #\"^GSPC\"\n",
    "\n",
    "df = yf.download(assets, start, finish, progress=false)\n",
    "\n",
    "df_test = yf.download(assets, start_test, finish_test, progress=false)\n",
    "\n",
    "fig, ax = plt.subplot_mosaic(\"\"\"AB\n",
    "    CD\n",
    "    EF\"\"\", figsize=(8*2, 6*3))\n",
    "\n",
    "# Stock prices\n",
    "df[\"Adj Close\"].plot(ax=ax[\"A\"])\n",
    "\n",
    "ax[\"A\"].legend(ncol=2)\n",
    "\n",
    "df_test[\"Adj Close\"].plot(ax=ax[\"B\"])\n",
    "\n",
    "ax[\"B\"].legend(ncol=2)\n",
    "\n",
    "#Returns\n",
    "df[\"Adj Close\"].pct_change().plot(ax=ax[\"C\"])\n",
    "\n",
    "ax[\"C\"].legend(ncol=2)\n",
    "\n",
    "df_test[\"Adj Close\"].pct_change().plot(ax=ax[\"D\"])\n",
    "\n",
    "ax[\"D\"].legend(ncol=2)\n",
    "\n",
    "#Histogram of returns\n",
    "for asset in assets\n",
    "    df[\"Adj Close\"][asset].pct_change().hist(ax=ax[\"E\"], bins=50, alpha=0.8, label=asset)\n",
    "end\n",
    "\n",
    "ax[\"E\"].legend(ncol=2)\n",
    "\n",
    "for asset in assets\n",
    "    df_test[\"Adj Close\"][asset].pct_change().hist(ax=ax[\"F\"], bins=50, alpha=0.8, label=asset)\n",
    "end\n",
    "\n",
    "ax[\"F\"].legend(ncol=2)"
   ]
  },
  {
   "cell_type": "markdown",
   "id": "7d6b28d7",
   "metadata": {},
   "source": [
    "# Resample data to 5-day frequency"
   ]
  },
  {
   "cell_type": "code",
   "execution_count": null,
   "id": "3f1c787a",
   "metadata": {},
   "outputs": [],
   "source": [
    "df = df.resample(\"5d\").mean()\n",
    "\n",
    "df_test = df_test.resample(\"5d\").mean()\n",
    "\n",
    "fig, ax = plt.subplot_mosaic(\"\"\"AB\n",
    "    CD\n",
    "    EF\"\"\", figsize=(8*2, 6*3))\n",
    "\n",
    "# Stock prices\n",
    "df[\"Adj Close\"].plot(ax=ax[\"A\"])\n",
    "\n",
    "ax[\"A\"].legend(ncol=2)\n",
    "\n",
    "df_test[\"Adj Close\"].plot(ax=ax[\"B\"])\n",
    "\n",
    "ax[\"B\"].legend(ncol=2)\n",
    "\n",
    "#Returns\n",
    "df[\"Adj Close\"].pct_change().plot(ax=ax[\"C\"])\n",
    "\n",
    "ax[\"C\"].legend(ncol=2)\n",
    "\n",
    "df_test[\"Adj Close\"].pct_change().plot(ax=ax[\"D\"])\n",
    "\n",
    "ax[\"D\"].legend(ncol=2)\n",
    "\n",
    "#Histogram of returns\n",
    "for asset in assets\n",
    "    df[\"Adj Close\"][asset].pct_change().hist(ax=ax[\"E\"], bins=30, alpha=0.8, label=asset)\n",
    "end\n",
    "\n",
    "ax[\"E\"].legend(ncol=2)\n",
    "\n",
    "for asset in assets\n",
    "    df_test[\"Adj Close\"][asset].pct_change().hist(ax=ax[\"F\"], bins=30, alpha=0.8, label=asset)\n",
    "end\n",
    "\n",
    "ax[\"F\"].legend(ncol=2)"
   ]
  },
  {
   "cell_type": "markdown",
   "id": "bcd26ea4",
   "metadata": {},
   "source": [
    "# Mean-Variance portfolio optimization "
   ]
  },
  {
   "cell_type": "code",
   "execution_count": null,
   "id": "be046a51",
   "metadata": {},
   "outputs": [],
   "source": [
    "μ = df[\"Adj Close\"].pct_change().mean().values\n",
    "\n",
    "Σ = df[\"Adj Close\"].pct_change().cov().values\n",
    "\n",
    "portfolio = Portfolio(µ, Σ)\n",
    "\n",
    "target_return = 0.006\n",
    "\n",
    "w_opt = MPT_fixed_return(portfolio, target_return)\n",
    "\n",
    "println(\"Expected Returns: \", sum(w_opt.*μ))\n",
    "println(\"Risk: \", sqrt(transpose(w_opt)*portfolio.Σ*w_opt))\n",
    "println(\"Weights:\", w_opt)"
   ]
  },
  {
   "cell_type": "code",
   "execution_count": null,
   "id": "719e4d82",
   "metadata": {},
   "outputs": [],
   "source": [
    "μ = df[\"Adj Close\"].pct_change().mean().values\n",
    "\n",
    "Σ = df[\"Adj Close\"].pct_change().cov().values\n",
    "\n",
    "portfolio = Portfolio(µ, Σ)\n",
    "\n",
    "target_risk = 0.018\n",
    "\n",
    "w_opt = MPT_fixed_risk(portfolio, target_risk)\n",
    "\n",
    "println(\"Expected Returns: \", sum(w_opt.*μ))\n",
    "println(\"Risk: \", sqrt(transpose(w_opt)*portfolio.Σ*w_opt))\n",
    "println(\"Weights:\", w_opt)"
   ]
  },
  {
   "cell_type": "markdown",
   "id": "6ae02309",
   "metadata": {},
   "source": [
    "# Efficient frontier "
   ]
  },
  {
   "cell_type": "code",
   "execution_count": null,
   "id": "79852fb1",
   "metadata": {},
   "outputs": [],
   "source": [
    "MeanVar, weights = Efficient_frontier(portfolio, 100);\n",
    "\n",
    "risks = sqrt.(diag(portfolio.Σ))\n",
    "\n",
    "for i in 1:length(portfolio.μ)\n",
    "\n",
    "    plt.scatter(risks[i], portfolio.μ[i], s=100, label=assets[i])\n",
    "    \n",
    "end\n",
    "\n",
    "plt.plot(sqrt.(MeanVar[:, 2]), MeanVar[:, 1], marker=\".\")\n",
    "\n",
    "plt.ylabel(\"Expected return\", fontsize=20, labelpad=15)\n",
    "plt.xlabel(\"Risk\", fontsize=20, labelpad=15)\n",
    "\n",
    "plt.legend(ncol=2)"
   ]
  },
  {
   "cell_type": "markdown",
   "id": "c2f55aa5",
   "metadata": {},
   "source": [
    "# Portfolio testing "
   ]
  },
  {
   "cell_type": "markdown",
   "id": "691dbfca",
   "metadata": {},
   "source": [
    "We select the portfolio with target_return of 0.005 "
   ]
  },
  {
   "cell_type": "code",
   "execution_count": null,
   "id": "848e6f14",
   "metadata": {},
   "outputs": [],
   "source": [
    "μ = df[\"Adj Close\"].pct_change().mean().values\n",
    "\n",
    "Σ = df[\"Adj Close\"].pct_change().cov().values\n",
    "\n",
    "portfolio = Portfolio(µ, Σ)\n",
    "\n",
    "df_test_returns = df_test[\"Adj Close\"].pct_change()\n",
    "\n",
    "target_return = 0.004\n",
    "\n",
    "w_opt = MPT_fixed_return(portfolio, target_return)\n",
    "\n",
    "println(\"Expected Returns: \", sum(w_opt.*μ))\n",
    "println(\"Risk: \", sqrt(transpose(w_opt)*portfolio.Σ*w_opt))\n",
    "println(\"Weights:\", w_opt)"
   ]
  },
  {
   "cell_type": "markdown",
   "id": "6c79102f",
   "metadata": {},
   "source": [
    "## Obtain yields after 5-day investment period for all posible investments next year"
   ]
  },
  {
   "cell_type": "code",
   "execution_count": null,
   "id": "85792542",
   "metadata": {},
   "outputs": [],
   "source": [
    "returns = df_test_returns.values[2:length(df_test_returns), :] * w_opt\n",
    "    \n",
    "risk = round(sqrt(var(returns)), digits=2)\n",
    "\n",
    "dates = [df_test[\"Adj Close\"].index[i] for i in 2 : length(df_test)]\n",
    "\n",
    "mean_return = round(mean(returns), digits=4)\n",
    "\n",
    "plt.figure(figsize=(8,6))\n",
    "\n",
    "plt.plot(dates, returns)\n",
    "\n",
    "plt.axhline(mean_return, color=\"k\", lw=3, label=\"μ=$mean_return,  σ=$risk\")\n",
    "\n",
    "plt.legend()"
   ]
  },
  {
   "cell_type": "code",
   "execution_count": null,
   "id": "a91f00cc",
   "metadata": {},
   "outputs": [],
   "source": [
    "μ = df[\"Adj Close\"].pct_change().mean().values\n",
    "\n",
    "Σ = df[\"Adj Close\"].pct_change().cov().values\n",
    "\n",
    "portfolio = Portfolio(µ, Σ)\n",
    "\n",
    "df_test_returns = df_test[\"Adj Close\"].pct_change()\n",
    "\n",
    "target_returns = 0.003 : 0.00025 : 0.007\n",
    "\n",
    "final_risks = []\n",
    "final_returns = []\n",
    "\n",
    "expected_risks = []\n",
    "expected_returns = []\n",
    "\n",
    "@time for target_return in target_returns\n",
    "\n",
    "    w_opt = MPT_fixed_return(portfolio, target_return)\n",
    "\n",
    "    expected_return = sum(w_opt.*μ)\n",
    "    expected_risk = sqrt(transpose(w_opt)*portfolio.Σ*w_opt)\n",
    "\n",
    "    returns = df_test_returns.values[2:length(df_test_returns), :] * w_opt\n",
    "\n",
    "    actual_risk = round(sqrt(var(returns)), digits=6)\n",
    "    actual_mean_return = round(mean(returns), digits=6)\n",
    "            \n",
    "    append!(expected_risks, expected_risk)\n",
    "    append!(expected_returns, expected_return)\n",
    "    \n",
    "    append!(final_risks, actual_risk)\n",
    "    append!(final_returns, actual_mean_return)\n",
    "    \n",
    "end\n",
    "\n",
    "plt.plot(expected_risks, expected_returns, marker=\"o\", label=\"Expected Frontier\")\n",
    "plt.plot(final_risks, final_returns, marker=\"o\", label=\"Real frontier\")\n",
    "\n",
    "plt.legend()"
   ]
  },
  {
   "cell_type": "markdown",
   "id": "9e5fc61b",
   "metadata": {},
   "source": [
    "# TO DO \n",
    "\n",
    "- Compare results with market investment (S&P500)"
   ]
  }
 ],
 "metadata": {
  "kernelspec": {
   "display_name": "Julia 1.7.2",
   "language": "julia",
   "name": "julia-1.7"
  },
  "language_info": {
   "file_extension": ".jl",
   "mimetype": "application/julia",
   "name": "julia",
   "version": "1.7.2"
  }
 },
 "nbformat": 4,
 "nbformat_minor": 5
}
